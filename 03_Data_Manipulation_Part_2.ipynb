{
  "nbformat": 4,
  "nbformat_minor": 0,
  "metadata": {
    "colab": {
      "provenance": [],
      "include_colab_link": true
    },
    "kernelspec": {
      "name": "python3",
      "display_name": "Python 3"
    },
    "language_info": {
      "name": "python"
    }
  },
  "cells": [
    {
      "cell_type": "markdown",
      "metadata": {
        "id": "view-in-github",
        "colab_type": "text"
      },
      "source": [
        "<a href=\"https://colab.research.google.com/github/zuuhair/tcp_socket/blob/main/03_Data_Manipulation_Part_2.ipynb\" target=\"_parent\"><img src=\"https://colab.research.google.com/assets/colab-badge.svg\" alt=\"Open In Colab\"/></a>"
      ]
    },
    {
      "cell_type": "code",
      "execution_count": null,
      "metadata": {
        "id": "OaaICLak6dqV"
      },
      "outputs": [],
      "source": []
    },
    {
      "cell_type": "markdown",
      "source": [
        "# **B. Dataset I/O**\n",
        "\n",
        "Pandas menyediakan berbagai method untuk membaca file tersebut hanya dengan dipanggil method itu, code yang lebih simple dan loading yang lebih, tentu saja output nya dapat berupa Series atau Dataframe.\n",
        "\n",
        "Terdapat sangat banyak file yang dapat dibaca/dapat disimpan oleh Pandas, tapi ada beberapa file yang paling umum dan sering digunakan oleh praktisi data seperti berikut ini:\n",
        "\n",
        "* **CSV** (*Comma Separated Values*), antar data dalam satu baris dipisahkan oleh comma, \",\".\n",
        "* **TSV** (*Tab Separated Values*), antar data dalam satu baris dipisahkan oleh \"Tab\".\n",
        "* **Excel**\n",
        "* **Google BigQuery**\n",
        "* **SQL Query**\n",
        "* **JSON** (*Java Script Object Notation*)\n",
        "\n",
        "\n"
      ],
      "metadata": {
        "id": "iKvmGHTI6uOb"
      }
    },
    {
      "cell_type": "markdown",
      "source": [
        "## **1. Read Dataset - CSV dan TSV**\n",
        "**CSV** dan **TSV** pada hakikatnya adalah tipe data text dengan perbedaan terletak pada pemisah antar data dalam satu baris. Pada *file* CSV, antar data dalam satu baris dipisahkan oleh *comma*, \",\". Namun, pada file *TSV* antar data dalam satu baris dipisahkan oleh \"**Tab**\".\n",
        "\n",
        "Fungsi .***read_csv()*** digunakan untuk membaca file yang value-nya dipisahkan oleh comma (*default*), terkadang pemisah value-nya bisa di set ‘\\t’ untuk file tsv (*tab separated values*).\n",
        "\n",
        "**Notes** :\n",
        "\n",
        "**Dataset csv** : https://github.com/rahmadsa/dataset/blob/main/sample_csv.csv\n",
        "\n",
        "**Dataset tsv** : https://github.com/rahmadsa/dataset/blob/main/sample_tsv.tsv\n",
        "\n",
        "**Membaca file CSV**\n",
        "\n",
        "![Kode Membaca file CSV](https://github.com/rahmadsa/Data-Wrangling-With-Python/blob/main/properties/img/2024-03-2205-30-14.png?raw=true)\n",
        "\n",
        "**Membaca file TSV**\n",
        "\n",
        "![Kode Membaca file CSV](https://github.com/rahmadsa/Data-Wrangling-With-Python/blob/main/properties/img/2024-03-22-05-38-40.png?raw=true)\n",
        "\n",
        "\n",
        "\n",
        "\n",
        "\n",
        "**Tugas praktek:**\n",
        "\n",
        "Pada code cell editor dibawah ini dapat dilihat kode-kode yang tidak lengkap. Tugas kamu sekarang adalah mengganti tanda _ _ _ di code editor dengan yang sesuai seperti yang diberikan pada contoh di atas.\n",
        "\n",
        "Tampilkanlah tiga data teratas dari kedua jenis file tersebut"
      ],
      "metadata": {
        "id": "PWV22y7KkNtn"
      }
    },
    {
      "cell_type": "code",
      "source": [
        "import pandas as pd\n",
        "\n",
        "df_csv = pd.read_csv(\"https://github.com/rahmadsa/dataset/blob/main/sample_csv.csv?raw=true\")\n",
        "print(df_csv.head(3))\n",
        "\n",
        "df_tsv = pd.read_csv(\"https://github.com/rahmadsa/dataset/blob/main/sample_tsv.tsv?raw=tru\", sep='/t')\n",
        "print(df_tsv.head(3))"
      ],
      "metadata": {
        "collapsed": true,
        "id": "aZfPaCYeeDDT",
        "outputId": "85a1fb13-eb13-4445-8b54-92e54b3286f2",
        "colab": {
          "base_uri": "https://localhost:8080/"
        }
      },
      "execution_count": 14,
      "outputs": [
        {
          "output_type": "stream",
          "name": "stdout",
          "text": [
            "   order_id  order_date  customer_id             city     province product_id  \\\n",
            "0   1612339  2019-01-01        18055  Jakarta Selatan  DKI Jakarta      P0648   \n",
            "1   1612339  2019-01-01        18055  Jakarta Selatan  DKI Jakarta      P3826   \n",
            "2   1612339  2019-01-01        18055  Jakarta Selatan  DKI Jakarta      P1508   \n",
            "\n",
            "     brand  quantity  item_price  \n",
            "0  BRAND_C         4     1934000  \n",
            "1  BRAND_V         8      604000  \n",
            "2  BRAND_G        12      747000  \n"
          ]
        },
        {
          "output_type": "stream",
          "name": "stderr",
          "text": [
            "<ipython-input-14-60197d87b5cd>:6: ParserWarning: Falling back to the 'python' engine because the 'c' engine does not support regex separators (separators > 1 char and different from '\\s+' are interpreted as regex); you can avoid this warning by specifying engine='python'.\n",
            "  df_tsv = pd.read_csv(\"https://github.com/rahmadsa/dataset/blob/main/sample_tsv.tsv?raw=tru\", sep='/t')\n"
          ]
        },
        {
          "output_type": "stream",
          "name": "stdout",
          "text": [
            "  order_id\\torder_date\\tcustomer_id\\tcity\\tprovince\\tproduct_id\\tbrand\\tquantity\\titem_price\n",
            "0  1932339\\t2019-03-02\\t19055\\tSemarang\\tJawa Ten...                                        \n",
            "1  1932339\\t2019-03-02\\t19055\\tSemarang\\tJawa Ten...                                        \n",
            "2  1932339\\t2019-03-02\\t19055\\tSemarang\\tJawa Ten...                                        \n"
          ]
        }
      ]
    },
    {
      "cell_type": "markdown",
      "source": [
        "## **2. Read Dataset - Excel**\n",
        "File Excel dengan ekstensi ***.xls** atau ***.xlsx** cukup banyak digunakan dalam menyimpan data. Pandas juga memiliki fitur untuk membaca file excel.\n",
        "\n",
        "**Notes :**\n",
        "\n",
        "**Dataset :** https://github.com/rahmadsa/dataset/blob/main/sample_excel.xlsx\n",
        "\n",
        "Fungsi ***.read_excel()*** digunakan untuk membaca file excel menjadi dataframe pandas.\n",
        "\n",
        "![Kode Read xls](https://github.com/rahmadsa/Data-Wrangling-With-Python/blob/main/properties/img/2024-03-2205-30-14.png?raw=true)\n",
        "\n",
        "\n",
        "\n",
        "\n",
        "**Tugas praktek:**\n",
        "\n",
        "Pada cell editor dibawah ini dapat dilihat kode-kode yang tidak lengkap. Lengkapilah kode tersebut dengan mengganti tanda _ _ _ di cell editor dengan yang sesuai seperti yang diberikan pada contoh di atas.\n",
        "\n",
        "Tampilkanlah sepuluh data teratas dari file excel yang telah dibaca!"
      ],
      "metadata": {
        "id": "BFGcCnqZ_T8t"
      }
    },
    {
      "cell_type": "code",
      "source": [
        "import pandas as pd\n",
        "df_excel = pd.read_excel(\"https://github.com/rahmadsa/dataset/blob/main/sample_excel.xlsx?raw=true\")\n",
        "print(df_csv.head(4))"
      ],
      "metadata": {
        "id": "Ydo-xY1b_y_k",
        "outputId": "e4a15901-4987-4d21-85d9-2f80791099f7",
        "colab": {
          "base_uri": "https://localhost:8080/"
        }
      },
      "execution_count": 17,
      "outputs": [
        {
          "output_type": "stream",
          "name": "stdout",
          "text": [
            "   order_id  order_date  customer_id             city     province product_id  \\\n",
            "0   1612339  2019-01-01        18055  Jakarta Selatan  DKI Jakarta      P0648   \n",
            "1   1612339  2019-01-01        18055  Jakarta Selatan  DKI Jakarta      P3826   \n",
            "2   1612339  2019-01-01        18055  Jakarta Selatan  DKI Jakarta      P1508   \n",
            "3   1612339  2019-01-01        18055  Jakarta Selatan  DKI Jakarta      P0520   \n",
            "\n",
            "     brand  quantity  item_price  \n",
            "0  BRAND_C         4     1934000  \n",
            "1  BRAND_V         8      604000  \n",
            "2  BRAND_G        12      747000  \n",
            "3  BRAND_B        12      450000  \n"
          ]
        }
      ]
    },
    {
      "cell_type": "markdown",
      "source": [
        "## **3. Read Dataset - JSON**\n",
        "\n",
        "Method ***.read_json()*** digunakan untuk membaca URL API yang formatnya JSON dan mengubahnya menjadi dataframe pandas. Method ini dapat digunakan seperti yang dicontohkan berikut ini:\n",
        "\n",
        "Dataset JSON: https://github.com/rahmadsa/dataset/blob/main/covid2019-api.json\n",
        "\n",
        "Fungsi .read_json() digunakan untuk membaca json API menjadi dataframe pandas:\n",
        "\n",
        "![Kode](https://github.com/rahmadsa/Data-Wrangling-With-Python/blob/main/properties/img/2024-03-22-06-01-59.png?raw=true)\n",
        "\n",
        "**Tugas praktek:**\n",
        "\n",
        "Pada cell editor dibawah ini dapat dilihat kode-kode yang tidak lengkap. Tugas sekarang adalah mengganti tanda _ _ _ di cell editor dengan yang sesuai seperti yang diberikan pada contoh di atas.\n",
        "\n",
        "Tampilkanlah sepuluh data teratas dari file JSON yang telah dibaca!"
      ],
      "metadata": {
        "id": "dZr3MOTVA0dq"
      }
    },
    {
      "cell_type": "code",
      "source": [
        "import pandas as pd\n",
        "url = \"https://github.com/rahmadsa/dataset/blob/main/covid2019-api.json?raw=true\"\n",
        "df_json = pd.read_json(url)\n",
        "print(df_json.head(10))"
      ],
      "metadata": {
        "id": "kjmtKspKbtVT",
        "outputId": "17f6e2d5-0327-428c-e932-9acc1e3cb179",
        "colab": {
          "base_uri": "https://localhost:8080/"
        }
      },
      "execution_count": 18,
      "outputs": [
        {
          "output_type": "stream",
          "name": "stdout",
          "text": [
            "                                                data          dt          ts\n",
            "0  {'location': 'US', 'confirmed': 3363056, 'deat...  07-14-2020  1594684800\n",
            "1  {'location': 'Brazil', 'confirmed': 1884967, '...  07-14-2020  1594684800\n",
            "2  {'location': 'India', 'confirmed': 906752, 'de...  07-14-2020  1594684800\n",
            "3  {'location': 'Russia', 'confirmed': 732547, 'd...  07-14-2020  1594684800\n",
            "4  {'location': 'Peru', 'confirmed': 330123, 'dea...  07-14-2020  1594684800\n",
            "5  {'location': 'Chile', 'confirmed': 317657, 'de...  07-14-2020  1594684800\n",
            "6  {'location': 'Mexico', 'confirmed': 304435, 'd...  07-14-2020  1594684800\n",
            "7  {'location': 'United Kingdom', 'confirmed': 29...  07-14-2020  1594684800\n",
            "8  {'location': 'South Africa', 'confirmed': 2877...  07-14-2020  1594684800\n",
            "9  {'location': 'Iran', 'confirmed': 259652, 'dea...  07-14-2020  1594684800\n"
          ]
        }
      ]
    },
    {
      "cell_type": "markdown",
      "source": [
        "## **4. Read Dataset - RDBMS (SQLite)**\n",
        "\n",
        "Methode pembacaan RDBMS (SQLite) disajikan pada notebook berbeda"
      ],
      "metadata": {
        "id": "tFMD4fcic40Z"
      }
    },
    {
      "cell_type": "markdown",
      "source": [
        "## **5. Head Dan Tail**\n",
        "Seperti yang telah dipelajari sebelumnya bahwa ada method .head yang diterapkan pada suatu variabel bertipe pandas dataframe/series.\n",
        "\n",
        "Method .head ditujukan untuk membatasi tampilan jumlah baris teratas dari dataset. Sementara itu, method .tail ditujukan untuk membatasi jumlah baris terbawah dari dataset.\n",
        "\n",
        "Secara umum kedua method ini memiliki bentuk\n",
        "\n",
        "\n",
        "```python\n",
        "[nama_dataframe].head(n)\n",
        "```\n",
        "dan\n",
        "\n",
        "```python\n",
        "[nama_dataframe].tail(n)\n",
        "```\n",
        "\n",
        "dengan **n** merupakan jumlah baris yang akan ditampilkan, jika tidak disebutkan **n = 5** (sebagai nilai default dari n).\n",
        "\n",
        "![Kode Head & Tails](https://github.com/rahmadsa/Data-Wrangling-With-Python/blob/main/properties/img/2024-03-22-06-15-15.png?raw=true)\n",
        "\n",
        "**Tugas Praktek:**\n",
        "\n",
        "**Notes :**\n",
        "\n",
        "**Dataset csv** : https://github.com/rahmadsa/dataset/blob/main/sample_csv.csv\n",
        "\n",
        "Berdasarkan *file sample_csv.csv* dengan alamat dataset diatas cetaklah 3 data teratas dan 3 data terbawah.\n",
        "\n"
      ],
      "metadata": {
        "id": "rOaUCFyPb0Ur"
      }
    },
    {
      "cell_type": "code",
      "source": [
        "import pandas as pd\n",
        "# Baca file sample_csv.csv\n",
        "df = pd.read_csv(\" https://github.com/rahmadsa/dataset/blob/main/sample_csv.csv?raw=true\")\n",
        "# Tampilkan 3 data teratas\n",
        "print(\"Tiga data teratas:\\n\", df .head(3))\n",
        "# Tampilkan 3 data terbawah\n",
        "print(\"Tiga data terbawah:\\n\", df .tail(3))"
      ],
      "metadata": {
        "id": "YebZ0ORDb_Ch",
        "collapsed": true,
        "outputId": "84cb6364-5d18-4802-bb3f-332c22111ae9",
        "colab": {
          "base_uri": "https://localhost:8080/"
        }
      },
      "execution_count": 4,
      "outputs": [
        {
          "output_type": "stream",
          "name": "stdout",
          "text": [
            "Tiga data teratas:\n",
            "    order_id  order_date  customer_id             city     province product_id  \\\n",
            "0   1612339  2019-01-01        18055  Jakarta Selatan  DKI Jakarta      P0648   \n",
            "1   1612339  2019-01-01        18055  Jakarta Selatan  DKI Jakarta      P3826   \n",
            "2   1612339  2019-01-01        18055  Jakarta Selatan  DKI Jakarta      P1508   \n",
            "\n",
            "     brand  quantity  item_price  \n",
            "0  BRAND_C         4     1934000  \n",
            "1  BRAND_V         8      604000  \n",
            "2  BRAND_G        12      747000  \n",
            "Tiga data terbawah:\n",
            "      order_id  order_date  customer_id      city          province product_id  \\\n",
            "98    1612390  2019-01-01        12681  Makassar  Sulawesi Selatan      P3354   \n",
            "99    1612390  2019-01-01        12681  Makassar  Sulawesi Selatan      P3357   \n",
            "100   1612390  2019-01-01        12681  Makassar  Sulawesi Selatan      P0422   \n",
            "\n",
            "       brand  quantity  item_price  \n",
            "98   BRAND_S        24      450000  \n",
            "99   BRAND_S        24      450000  \n",
            "100  BRAND_B         4     1325000  \n",
            "Tiga data teratas:\n",
            "    order_id  order_date  customer_id             city     province product_id  \\\n",
            "0   1612339  2019-01-01        18055  Jakarta Selatan  DKI Jakarta      P0648   \n",
            "1   1612339  2019-01-01        18055  Jakarta Selatan  DKI Jakarta      P3826   \n",
            "2   1612339  2019-01-01        18055  Jakarta Selatan  DKI Jakarta      P1508   \n",
            "\n",
            "     brand  quantity  item_price  \n",
            "0  BRAND_C         4     1934000  \n",
            "1  BRAND_V         8      604000  \n",
            "2  BRAND_G        12      747000  \n",
            "Tiga data terbawah:\n",
            "      order_id  order_date  customer_id      city          province product_id  \\\n",
            "98    1612390  2019-01-01        12681  Makassar  Sulawesi Selatan      P3354   \n",
            "99    1612390  2019-01-01        12681  Makassar  Sulawesi Selatan      P3357   \n",
            "100   1612390  2019-01-01        12681  Makassar  Sulawesi Selatan      P0422   \n",
            "\n",
            "       brand  quantity  item_price  \n",
            "98   BRAND_S        24      450000  \n",
            "99   BRAND_S        24      450000  \n",
            "100  BRAND_B         4     1325000  \n"
          ]
        }
      ]
    },
    {
      "cell_type": "code",
      "source": [],
      "metadata": {
        "id": "MeuQwD8scSpp"
      },
      "execution_count": null,
      "outputs": []
    },
    {
      "cell_type": "markdown",
      "source": [
        "### **6. Write Dataset**\n",
        "Dalam bekerja sebagai data analisis setelah dilakukan data *cleaning dataset* yang sudah rapi tentunya disimpan terlebih dahulu ke dalam media penyimpanan.  \n",
        "\n",
        "Pandas menyediakan fitur demikian secara ringkas melalui penerapan method pada dataframe/series yang ditabelkan berikut ini:\n",
        "\n",
        "![Tabel Read Dataset](https://github.com/rahmadsa/Data-Wrangling-With-Python/blob/main/properties/img/2024-03-22-06-25-03.png?raw=true)"
      ],
      "metadata": {
        "id": "Ru6hAD0tU9tp"
      }
    },
    {
      "cell_type": "code",
      "source": [],
      "metadata": {
        "id": "YxUqoeoyc8Tw"
      },
      "execution_count": null,
      "outputs": []
    },
    {
      "cell_type": "markdown",
      "source": [
        "**Tugas Praktek 4 :**\n",
        "\n",
        "Carilah refrensi cara menggabungkan beberapa dataframe kedalam sebuah dataframe baru.\n",
        "\n",
        "Berikut disajikan dua buah dataset :\n",
        "\n",
        "1. **Dataset csv** : https://github.com/rahmadsa/dataset/blob/main/sample_csv.csv\n",
        "\n",
        "2. **Dataset tsv** : https://github.com/rahmadsa/dataset/blob/main/sample_tsv.tsv\n",
        "\n",
        "\n",
        "*Requirement* :\n",
        "\n",
        "1. Buatlah Dataset baru yang merupakan gabungan 2 (dua) dataset diatas dalam sebuah dataframe baru dengan nama  df_NIM_Anda contoh *df_19979922*.\n",
        "2. Tampilkan jumlah masing-masing data pada dataframe point no 1 (dataset 1 dan dataset 2)\n",
        "3. Tampilkan jumlah data pada dataset data baru dari requirement nomor 1\n",
        "4. Tampilkan 10 data teratas dan 10 data terbawah, dari data frame baru point no 1\n",
        "\n",
        "\n",
        "\n",
        "\n",
        "\n"
      ],
      "metadata": {
        "id": "s3LXrVdJhv8m"
      }
    },
    {
      "cell_type": "code",
      "source": [
        "import pandas as pd\n",
        "\n",
        "# Dataset 1\n",
        "df_csv = pd.read_csv(\"https://github.com/rahmadsa/dataset/blob/main/sample_csv.csv?raw=true\")\n",
        "data1 = pd.DataFrame(df_csv)\n",
        "print(df_csv)\n",
        "\n",
        "# Dataset 2\n",
        "df_tsv = pd.read_csv(\"https://github.com/rahmadsa/dataset/blob/main/sample_tsv.tsv?raw=true\")\n",
        "data2 = pd.DataFrame(df_csv)\n",
        "print(df_tsv)\n",
        "\n",
        "# Gabunggan dataset\n",
        "NIM = '12221918'\n",
        "df_12221918 = pd.concat([df_csv, df_tsv], ignore_index=True)\n",
        "\n",
        "# Tampillan jumlah data pada masing-masing dataset\n",
        "print(\"Jumlah data  Dataset 1:\", len(df_csv))\n",
        "print(\"Jumlah data Dataset 2:\", len(df_tsv))\n",
        "\n",
        "df_baru = len(df_12221918)\n",
        "print(\"Jumlah data pada Dataset baru:\", df_baru)\n",
        "\n",
        "# Tampilkan 10 data teratas\n",
        "atas_10 = df_12221918.head(10)\n",
        "print(\"\\n10 Data Teratas:\")\n",
        "print(atas_10)\n",
        "\n",
        "# Tampilkan 10 data terbawah\n",
        "bawah_10 = df_12221918.tail(10)\n",
        "print(\"\\n10 Data Terbawah:\")\n",
        "print(bawah_10)\n"
      ],
      "metadata": {
        "collapsed": true,
        "id": "EmbZEwGEgPtj",
        "outputId": "5279de59-8134-4b3a-a1b8-735960292b74",
        "colab": {
          "base_uri": "https://localhost:8080/"
        }
      },
      "execution_count": 18,
      "outputs": [
        {
          "output_type": "stream",
          "name": "stdout",
          "text": [
            "     order_id  order_date  customer_id             city          province  \\\n",
            "0     1612339  2019-01-01        18055  Jakarta Selatan       DKI Jakarta   \n",
            "1     1612339  2019-01-01        18055  Jakarta Selatan       DKI Jakarta   \n",
            "2     1612339  2019-01-01        18055  Jakarta Selatan       DKI Jakarta   \n",
            "3     1612339  2019-01-01        18055  Jakarta Selatan       DKI Jakarta   \n",
            "4     1612339  2019-01-01        18055  Jakarta Selatan       DKI Jakarta   \n",
            "..        ...         ...          ...              ...               ...   \n",
            "96    1612390  2019-01-01        12681         Makassar  Sulawesi Selatan   \n",
            "97    1612390  2019-01-01        12681         Makassar  Sulawesi Selatan   \n",
            "98    1612390  2019-01-01        12681         Makassar  Sulawesi Selatan   \n",
            "99    1612390  2019-01-01        12681         Makassar  Sulawesi Selatan   \n",
            "100   1612390  2019-01-01        12681         Makassar  Sulawesi Selatan   \n",
            "\n",
            "    product_id    brand  quantity  item_price  \n",
            "0        P0648  BRAND_C         4     1934000  \n",
            "1        P3826  BRAND_V         8      604000  \n",
            "2        P1508  BRAND_G        12      747000  \n",
            "3        P0520  BRAND_B        12      450000  \n",
            "4        P1513  BRAND_G         3     1500000  \n",
            "..         ...      ...       ...         ...  \n",
            "96       P3388  BRAND_S        10      450000  \n",
            "97       P3082  BRAND_R        18     1045000  \n",
            "98       P3354  BRAND_S        24      450000  \n",
            "99       P3357  BRAND_S        24      450000  \n",
            "100      P0422  BRAND_B         4     1325000  \n",
            "\n",
            "[101 rows x 9 columns]\n",
            "    order_id\\torder_date\\tcustomer_id\\tcity\\tprovince\\tproduct_id\\tbrand\\tquantity\\titem_price\n",
            "0    1932339\\t2019-03-02\\t19055\\tSemarang\\tJawa Ten...                                        \n",
            "1    1932339\\t2019-03-02\\t19055\\tSemarang\\tJawa Ten...                                        \n",
            "2    1932339\\t2019-03-02\\t19055\\tSemarang\\tJawa Ten...                                        \n",
            "3    1932339\\t2019-03-02\\t19055\\tSemarang\\tJawa Ten...                                        \n",
            "4    1932339\\t2019-03-02\\t19055\\tSemarang\\tJawa Ten...                                        \n",
            "..                                                 ...                                        \n",
            "96   1932390\\t2019-03-02\\t17681\\tGorontalo\\tGoronta...                                        \n",
            "97   1932390\\t2019-03-02\\t17681\\tGorontalo\\tGoronta...                                        \n",
            "98   1932390\\t2019-03-02\\t17681\\tGorontalo\\tGoronta...                                        \n",
            "99   1932390\\t2019-03-02\\t17681\\tGorontalo\\tGoronta...                                        \n",
            "100  1932390\\t2019-03-02\\t17681\\tGorontalo\\tGoronta...                                        \n",
            "\n",
            "[101 rows x 1 columns]\n",
            "Jumlah data  Dataset 1: 101\n",
            "Jumlah data Dataset 2: 101\n",
            "Jumlah data pada Dataset baru: 202\n",
            "\n",
            "10 Data Teratas:\n",
            "    order_id  order_date  customer_id             city     province  \\\n",
            "0  1612339.0  2019-01-01      18055.0  Jakarta Selatan  DKI Jakarta   \n",
            "1  1612339.0  2019-01-01      18055.0  Jakarta Selatan  DKI Jakarta   \n",
            "2  1612339.0  2019-01-01      18055.0  Jakarta Selatan  DKI Jakarta   \n",
            "3  1612339.0  2019-01-01      18055.0  Jakarta Selatan  DKI Jakarta   \n",
            "4  1612339.0  2019-01-01      18055.0  Jakarta Selatan  DKI Jakarta   \n",
            "5  1612339.0  2019-01-01      18055.0  Jakarta Selatan  DKI Jakarta   \n",
            "6  1612339.0  2019-01-01      18055.0  Jakarta Selatan  DKI Jakarta   \n",
            "7  1612339.0  2019-01-01      18055.0  Jakarta Selatan  DKI Jakarta   \n",
            "8  1612339.0  2019-01-01      18055.0  Jakarta Selatan  DKI Jakarta   \n",
            "9  1612339.0  2019-01-01      18055.0  Jakarta Selatan  DKI Jakarta   \n",
            "\n",
            "  product_id    brand  quantity  item_price  \\\n",
            "0      P0648  BRAND_C       4.0   1934000.0   \n",
            "1      P3826  BRAND_V       8.0    604000.0   \n",
            "2      P1508  BRAND_G      12.0    747000.0   \n",
            "3      P0520  BRAND_B      12.0    450000.0   \n",
            "4      P1513  BRAND_G       3.0   1500000.0   \n",
            "5      P3911  BRAND_V       3.0   2095000.0   \n",
            "6      P1780  BRAND_H       3.0   2095000.0   \n",
            "7      P3132  BRAND_S       3.0   1745000.0   \n",
            "8      P1342  BRAND_F       6.0   1045000.0   \n",
            "9      P2556  BRAND_P       6.0   1045000.0   \n",
            "\n",
            "  order_id\\torder_date\\tcustomer_id\\tcity\\tprovince\\tproduct_id\\tbrand\\tquantity\\titem_price  \n",
            "0                                                NaN                                          \n",
            "1                                                NaN                                          \n",
            "2                                                NaN                                          \n",
            "3                                                NaN                                          \n",
            "4                                                NaN                                          \n",
            "5                                                NaN                                          \n",
            "6                                                NaN                                          \n",
            "7                                                NaN                                          \n",
            "8                                                NaN                                          \n",
            "9                                                NaN                                          \n",
            "\n",
            "10 Data Terbawah:\n",
            "     order_id order_date  customer_id city province product_id brand  \\\n",
            "192       NaN        NaN          NaN  NaN      NaN        NaN   NaN   \n",
            "193       NaN        NaN          NaN  NaN      NaN        NaN   NaN   \n",
            "194       NaN        NaN          NaN  NaN      NaN        NaN   NaN   \n",
            "195       NaN        NaN          NaN  NaN      NaN        NaN   NaN   \n",
            "196       NaN        NaN          NaN  NaN      NaN        NaN   NaN   \n",
            "197       NaN        NaN          NaN  NaN      NaN        NaN   NaN   \n",
            "198       NaN        NaN          NaN  NaN      NaN        NaN   NaN   \n",
            "199       NaN        NaN          NaN  NaN      NaN        NaN   NaN   \n",
            "200       NaN        NaN          NaN  NaN      NaN        NaN   NaN   \n",
            "201       NaN        NaN          NaN  NaN      NaN        NaN   NaN   \n",
            "\n",
            "     quantity  item_price  \\\n",
            "192       NaN         NaN   \n",
            "193       NaN         NaN   \n",
            "194       NaN         NaN   \n",
            "195       NaN         NaN   \n",
            "196       NaN         NaN   \n",
            "197       NaN         NaN   \n",
            "198       NaN         NaN   \n",
            "199       NaN         NaN   \n",
            "200       NaN         NaN   \n",
            "201       NaN         NaN   \n",
            "\n",
            "    order_id\\torder_date\\tcustomer_id\\tcity\\tprovince\\tproduct_id\\tbrand\\tquantity\\titem_price  \n",
            "192  1932387\\t2019-03-02\\t14460\\tBandung\\tJawa Bara...                                          \n",
            "193  1932387\\t2019-03-02\\t14460\\tBandung\\tJawa Bara...                                          \n",
            "194  1932387\\t2019-03-02\\t14460\\tBandung\\tJawa Bara...                                          \n",
            "195  1932387\\t2019-03-02\\t14460\\tBandung\\tJawa Bara...                                          \n",
            "196  1932390\\t2019-03-02\\t17681\\tGorontalo\\tGoronta...                                          \n",
            "197  1932390\\t2019-03-02\\t17681\\tGorontalo\\tGoronta...                                          \n",
            "198  1932390\\t2019-03-02\\t17681\\tGorontalo\\tGoronta...                                          \n",
            "199  1932390\\t2019-03-02\\t17681\\tGorontalo\\tGoronta...                                          \n",
            "200  1932390\\t2019-03-02\\t17681\\tGorontalo\\tGoronta...                                          \n",
            "201  1932390\\t2019-03-02\\t17681\\tGorontalo\\tGoronta...                                          \n"
          ]
        }
      ]
    }
  ]
}