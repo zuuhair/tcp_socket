{
  "cells": [
    {
      "cell_type": "markdown",
      "metadata": {
        "id": "wWpHFZteuPEe"
      },
      "source": [
        "# **A. Dasar Pemrograman Python**"
      ]
    },
    {
      "cell_type": "markdown",
      "metadata": {
        "id": "NIA4STmkuPEh"
      },
      "source": [
        "## 1.  Printing, variables dan strings"
      ]
    },
    {
      "cell_type": "code",
      "execution_count": 87,
      "metadata": {
        "id": "FFAiSVlPuPEi",
        "outputId": "298a7640-2c35-4939-c7ff-200acc5d4cec",
        "colab": {
          "base_uri": "https://localhost:8080/"
        }
      },
      "outputs": [
        {
          "output_type": "stream",
          "name": "stdout",
          "text": [
            "hello data world!\n",
            "5.5\n"
          ]
        }
      ],
      "source": [
        "# let's start\n",
        "print(\"hello data world!\")\n",
        "\n",
        "# we don't (usually) specify types to variables:\n",
        "n = 2\n",
        "x = 2.5\n",
        "y = 1.0\n",
        "print(x + y + n)"
      ]
    },
    {
      "cell_type": "code",
      "execution_count": 88,
      "metadata": {
        "id": "jneR-OYtuPEk",
        "outputId": "9647c48f-ffdf-4f08-cd74-48645207aa6e",
        "colab": {
          "base_uri": "https://localhost:8080/"
        }
      },
      "outputs": [
        {
          "output_type": "stream",
          "name": "stdout",
          "text": [
            "this is a name\n"
          ]
        }
      ],
      "source": [
        "# use double or single quotes for strings\n",
        "name1 = 'this is'\n",
        "name2 = \" a name\"\n",
        "# string concatenation is simple\n",
        "print(name1 + name2)"
      ]
    },
    {
      "cell_type": "code",
      "execution_count": 89,
      "metadata": {
        "id": "WmHg3R34uPEl",
        "outputId": "fe7d707b-5ed6-419c-bb84-84715b2aa169",
        "colab": {
          "base_uri": "https://localhost:8080/"
        }
      },
      "outputs": [
        {
          "output_type": "stream",
          "name": "stdout",
          "text": [
            "hi there this is a test\n",
            "2.5\n",
            "and this is how you can print numbers with strings 2.5\n",
            "and this test is how to use f-strings 2.5\n"
          ]
        }
      ],
      "source": [
        "# printing\n",
        "x = 2.5\n",
        "name = \"test\"\n",
        "print(\"hi there this is a \" + name)\n",
        "print(x)\n",
        "print(\"and this is how you can print numbers with strings \" + str(x))\n",
        "print(f\"and this {name} is how to use f-strings {x}\")"
      ]
    },
    {
      "cell_type": "markdown",
      "metadata": {
        "id": "ZusrJSKFuPEm"
      },
      "source": [
        "## 2. Tuples\n",
        "Tuple adalah kumpulan elemen dari suatu variable yang tidak dapat diubah (Anda tidak dapat menambahkan dan menghapus elemen darinya)."
      ]
    },
    {
      "cell_type": "code",
      "execution_count": 4,
      "metadata": {
        "id": "skVE2m7quPEn",
        "outputId": "1c45f19c-6038-4883-b427-861e42ab543e",
        "colab": {
          "base_uri": "https://localhost:8080/"
        }
      },
      "outputs": [
        {
          "output_type": "execute_result",
          "data": {
            "text/plain": [
              "True"
            ]
          },
          "metadata": {},
          "execution_count": 4
        }
      ],
      "source": [
        "# tuple example:\n",
        "t1 = (1, 2, 3)\n",
        "t2 = 1, 2, 3  # parentheses are not required\n",
        "t1 == t2"
      ]
    },
    {
      "cell_type": "code",
      "execution_count": 5,
      "metadata": {
        "id": "5evsbvfQuPEn",
        "outputId": "1d60c8fe-4f8b-4173-c761-893f3ed87392",
        "colab": {
          "base_uri": "https://localhost:8080/"
        }
      },
      "outputs": [
        {
          "output_type": "execute_result",
          "data": {
            "text/plain": [
              "3"
            ]
          },
          "metadata": {},
          "execution_count": 5
        }
      ],
      "source": [
        "len(t1)  # same as list"
      ]
    },
    {
      "cell_type": "code",
      "execution_count": 6,
      "metadata": {
        "id": "PN1TH1uLuPEn",
        "outputId": "ba8a527d-6b85-4843-d88b-525d85ece27c",
        "colab": {
          "base_uri": "https://localhost:8080/"
        }
      },
      "outputs": [
        {
          "output_type": "execute_result",
          "data": {
            "text/plain": [
              "2"
            ]
          },
          "metadata": {},
          "execution_count": 6
        }
      ],
      "source": [
        "t1[1]  # same as list"
      ]
    },
    {
      "cell_type": "code",
      "execution_count": 7,
      "metadata": {
        "id": "59a0KSShuPEo",
        "outputId": "6b3d548c-04e1-4a02-d0ee-028fbf6884fd",
        "colab": {
          "base_uri": "https://localhost:8080/"
        }
      },
      "outputs": [
        {
          "output_type": "execute_result",
          "data": {
            "text/plain": [
              "(1, 2)"
            ]
          },
          "metadata": {},
          "execution_count": 7
        }
      ],
      "source": [
        "t1[:2] # same as list"
      ]
    },
    {
      "cell_type": "markdown",
      "metadata": {
        "id": "By75yK2LuPEo"
      },
      "source": [
        "## 3. Struktur Data Lists\n",
        "\n",
        "List adalah struktur data pada python yang mampu menyimpan lebih dari satu data (elemen) dalam suatu variable yang bisa dirubah, seperti array.  \n"
      ]
    },
    {
      "cell_type": "code",
      "execution_count": 8,
      "metadata": {
        "id": "5miLLjDWuPEo",
        "outputId": "771e0c32-e88a-4232-a0d6-062e66236368",
        "colab": {
          "base_uri": "https://localhost:8080/",
          "height": 87
        }
      },
      "outputs": [
        {
          "output_type": "stream",
          "name": "stdout",
          "text": [
            "[1, -1, 10]\n",
            "list has 3 elements\n",
            "[1, ['name', 2], -0.51]\n"
          ]
        },
        {
          "output_type": "execute_result",
          "data": {
            "text/plain": [
              "'name'"
            ],
            "application/vnd.google.colaboratory.intrinsic+json": {
              "type": "string"
            }
          },
          "metadata": {},
          "execution_count": 8
        }
      ],
      "source": [
        "# lists: structures that form collection of variables\n",
        "numbers = [1, -1, 10]\n",
        "print(numbers)\n",
        "print(f'list has {len(numbers)} elements') # len() is a function that takes list objects as argument and returns number of elements\n",
        "\n",
        "# can contain different types (or even lists!)\n",
        "complex_list = [1, [\"name\", 2], -0.51]\n",
        "print(complex_list)\n",
        "complex_list[1][0]"
      ]
    },
    {
      "cell_type": "code",
      "execution_count": 9,
      "metadata": {
        "id": "6ef4wBduuPEp",
        "outputId": "2fb37758-4bb8-4fcc-87c4-30a5a8d46215",
        "colab": {
          "base_uri": "https://localhost:8080/"
        }
      },
      "outputs": [
        {
          "output_type": "stream",
          "name": "stdout",
          "text": [
            "this is the 2nd element of the list: 4\n",
            "t3st\n"
          ]
        }
      ],
      "source": [
        "# simple list indexing\n",
        "numbers = [1, 4, 10]\n",
        "print(f\"this is the 2nd element of the list: {numbers[1]}\")\n",
        "\n",
        "s = \"test\"\n",
        "# strings are also lists but they cannot be modified (immutable)\n",
        "# s[1] = \"3\" # this returns an error\n",
        "# instead you can do this:\n",
        "print(s.replace(\"e\", \"3\"))\n",
        "# replace is a METHOD of string OBJECTS"
      ]
    },
    {
      "cell_type": "code",
      "execution_count": 10,
      "metadata": {
        "id": "0NCPZPy9uPEp",
        "outputId": "0bb8eb79-fd7e-4634-f5e7-cf883ffc7ff3",
        "colab": {
          "base_uri": "https://localhost:8080/"
        }
      },
      "outputs": [
        {
          "output_type": "stream",
          "name": "stdout",
          "text": [
            "-10\n",
            "[2, 3]\n",
            "[1, 2, 3, 10]\n",
            "[1, 2, 3, 10, 15]\n",
            "[1, 3, 15, -10]\n",
            "[1, 3, 15]\n",
            "[-10, 2, 15, 10, 3, 2]\n"
          ]
        }
      ],
      "source": [
        "# negative list indices\n",
        "numbers = [1, 2, 3, 10, 15, 2, -10]\n",
        "print(numbers[-1])\n",
        "\n",
        "# ... and list slicing\n",
        "print(numbers[1:3])\n",
        "print(numbers[:4])\n",
        "print(numbers[:-2])\n",
        "print(numbers[::2])\n",
        "print(numbers[0:5:2])\n",
        "print(numbers[-1:0:-1])"
      ]
    },
    {
      "cell_type": "code",
      "execution_count": 11,
      "metadata": {
        "id": "6sBXzpzSuPEp",
        "outputId": "803b20d2-eb1a-41fb-b8df-b19683e9f112",
        "colab": {
          "base_uri": "https://localhost:8080/"
        }
      },
      "outputs": [
        {
          "output_type": "stream",
          "name": "stdout",
          "text": [
            "[1, 2, -10, -10, 15, 2, -10]\n",
            "[1, 2, -10, -10, 15, 2, -10, -20, 2]\n",
            "[1, 2, -10, -10, 15, 2, -10, -20, 2, -100]\n"
          ]
        }
      ],
      "source": [
        "# list manipulation\n",
        "# element replacement\n",
        "numbers = [1, 2, 3, 10, 15, 2, -10]\n",
        "numbers[2:4] = [-10, -10]\n",
        "print(numbers)\n",
        "# list concatenation\n",
        "numbers += [-20, 2]\n",
        "print(numbers)\n",
        "# can also use the append method for appending a single element\n",
        "# (DOES NOT RETURN list but appends on existing object):\n",
        "numbers.append(-100)\n",
        "print(numbers)"
      ]
    },
    {
      "cell_type": "code",
      "execution_count": 12,
      "metadata": {
        "id": "vxYm3Sd1uPEp",
        "outputId": "29d363f1-e031-4b27-cf20-a326925ba093",
        "colab": {
          "base_uri": "https://localhost:8080/"
        }
      },
      "outputs": [
        {
          "output_type": "stream",
          "name": "stdout",
          "text": [
            "[1, 0, 3]\n",
            "[1, 0, 3]\n",
            "Copy:\n",
            "[1, 0, 3]\n",
            "[1, 2, 3]\n"
          ]
        }
      ],
      "source": [
        "# copy lists vs by reference\n",
        "x = [1, 2, 3]\n",
        "y = x\n",
        "x[1] = 0\n",
        "print(x)\n",
        "print(y)\n",
        "# y has also changed\n",
        "\n",
        "print(\"Copy:\")\n",
        "x = [1, 2, 3]\n",
        "y = x[:]\n",
        "x[1] = 0\n",
        "print(x)\n",
        "print(y)\n",
        "# (y has not changed)"
      ]
    },
    {
      "cell_type": "markdown",
      "metadata": {
        "id": "jDy43KD4uPEq"
      },
      "source": [
        "## 4. If statements\n",
        "\n",
        "*If statment* adalah bentuk pernyataan percabangan, struktur ini juga disebut control flow, decision, struktur kondisi, Struktur if, dsb.\n",
        "\n",
        "Percabangan akan mampu membuat program berpikir dan menentukan tindakan sesuai dengan logika/kondisi yang kita berikan"
      ]
    },
    {
      "cell_type": "code",
      "execution_count": 13,
      "metadata": {
        "id": "Q_5x0luUuPEq",
        "outputId": "7cab985e-79c3-41ec-9b06-e00e453fe193",
        "colab": {
          "base_uri": "https://localhost:8080/"
        }
      },
      "outputs": [
        {
          "output_type": "stream",
          "name": "stdout",
          "text": [
            "10 is the element no 3\n",
            "-2 is not found in list\n"
          ]
        }
      ],
      "source": [
        "# if statements\n",
        "my_list = [1, 2, -4, 10]\n",
        "number_to_find_1 =10\n",
        "\n",
        "if number_to_find_1 in my_list:\n",
        "    # call METHOD \"index\" of the list OBJECT:\n",
        "    print(f'{number_to_find_1} is the element no {my_list.index(number_to_find_1)}')\n",
        "else:\n",
        "    print(f'{number_to_find_1} is not found in list')\n",
        "\n",
        "number_to_find_2 = -2\n",
        "if number_to_find_2 in my_list:\n",
        "    # call METHOD \"index\" of the list OBJECT:\n",
        "    print(f'{number_to_find_2} is the element no {my_list.index(number_to_find_2)}')\n",
        "else:\n",
        "    print(f'{number_to_find_2} is not found in list')\n",
        ""
      ]
    },
    {
      "cell_type": "code",
      "execution_count": 14,
      "metadata": {
        "id": "8-xbHv0_uPEq",
        "outputId": "5f2e6549-e1a8-4ec2-8fca-90ba14e39377",
        "colab": {
          "base_uri": "https://localhost:8080/"
        }
      },
      "outputs": [
        {
          "output_type": "stream",
          "name": "stdout",
          "text": [
            "hot\n"
          ]
        }
      ],
      "source": [
        "# more if\n",
        "temperature = 29\n",
        "if temperature < 10:\n",
        "    print(\"cold\")\n",
        "elif temperature < 25:\n",
        "    print(\"normal\")\n",
        "elif temperature < 35:\n",
        "    print('hot')\n",
        "else:\n",
        "    print(\"very hot\")"
      ]
    },
    {
      "cell_type": "code",
      "execution_count": 15,
      "metadata": {
        "id": "W0nviEmyuPEq",
        "outputId": "56a8acbb-cd0b-47ba-9e89-f85febbf5f16",
        "colab": {
          "base_uri": "https://localhost:8080/"
        }
      },
      "outputs": [
        {
          "output_type": "stream",
          "name": "stdout",
          "text": [
            "False\n",
            "True\n",
            "True\n",
            "True\n"
          ]
        }
      ],
      "source": [
        "# operators\n",
        "a = 10\n",
        "print(a == 3)\n",
        "print(a == 10)\n",
        "print(a < 20)\n",
        "\n",
        "# not operator:\n",
        "print(not False)"
      ]
    },
    {
      "cell_type": "markdown",
      "metadata": {
        "id": "zBVx-sKAuPEr"
      },
      "source": [
        "## 5. Perulangan For\n",
        "\n",
        "Perulangan dalam bahasa pemrograman berfungsi menyuruh komputer melakukan sesuatu secara berulang-ulang. Terdapat dua jenis perulangan dalam bahasa pemrograman **python**, salah satunya perulangan dengan *for*.\n",
        "\n",
        "Perulangan *for* disebut *counted loop* (perulangan yang terhitung). Perbedaannya adalah perulangan for biasanya digunakan untuk mengulangi kode yang sudah diketahui banyak perulangannya"
      ]
    },
    {
      "cell_type": "code",
      "execution_count": 16,
      "metadata": {
        "id": "dr0zG_SruPEr",
        "outputId": "758baa18-18ed-4902-9617-e9311adba8f9",
        "colab": {
          "base_uri": "https://localhost:8080/"
        }
      },
      "outputs": [
        {
          "output_type": "stream",
          "name": "stdout",
          "text": [
            "1\n",
            "5\n",
            "100\n"
          ]
        }
      ],
      "source": [
        "l = [1, 5, 100]\n",
        "for i in l:\n",
        "    print(i)"
      ]
    },
    {
      "cell_type": "code",
      "execution_count": 17,
      "metadata": {
        "id": "9MdWw9C_uPEr",
        "outputId": "711baf8d-57ad-4652-977c-e9c7981fd176",
        "colab": {
          "base_uri": "https://localhost:8080/"
        }
      },
      "outputs": [
        {
          "output_type": "stream",
          "name": "stdout",
          "text": [
            "1\n",
            "2\n",
            "3\n",
            "4\n",
            "5\n"
          ]
        }
      ],
      "source": [
        "for i in range(5):\n",
        "    print(i+1)"
      ]
    },
    {
      "cell_type": "code",
      "execution_count": 18,
      "metadata": {
        "id": "mcgFaiIiuPEr",
        "outputId": "68ee3aff-7859-4039-eb10-3e5938865757",
        "colab": {
          "base_uri": "https://localhost:8080/"
        }
      },
      "outputs": [
        {
          "output_type": "stream",
          "name": "stdout",
          "text": [
            "0\n",
            "5\n",
            "10\n",
            "15\n"
          ]
        }
      ],
      "source": [
        "for i in range(0, 20, 5):\n",
        "    print(i)"
      ]
    },
    {
      "cell_type": "code",
      "execution_count": 19,
      "metadata": {
        "id": "wJpzHpy7uPEr",
        "outputId": "dc6c17b2-878d-451f-8fef-b897cfe74f94",
        "colab": {
          "base_uri": "https://localhost:8080/"
        }
      },
      "outputs": [
        {
          "output_type": "stream",
          "name": "stdout",
          "text": [
            "George\n",
            "Alan\n",
            "Mary\n"
          ]
        }
      ],
      "source": [
        "names = [\"George\", \"Alan\", \"Mary\"]\n",
        "for n in names:\n",
        "    print(n)"
      ]
    },
    {
      "cell_type": "code",
      "execution_count": 20,
      "metadata": {
        "id": "NpBh3Q8HuPEr",
        "outputId": "ac07cd89-9066-44de-986e-3ea059bd508b",
        "colab": {
          "base_uri": "https://localhost:8080/"
        }
      },
      "outputs": [
        {
          "output_type": "stream",
          "name": "stdout",
          "text": [
            "name 0: George\n",
            "name 1: Alan\n",
            "name 2: Mary\n"
          ]
        }
      ],
      "source": [
        "# with indices:\n",
        "names = [\"George\", \"Alan\", \"Mary\"]\n",
        "for i, n in enumerate(names):\n",
        "    print(f\"name {i}: {n}\")"
      ]
    },
    {
      "cell_type": "code",
      "execution_count": 21,
      "metadata": {
        "id": "ZbWtoY7ZuPEs",
        "outputId": "22f64cc0-28ff-4c9a-bea3-c409abaf7840",
        "colab": {
          "base_uri": "https://localhost:8080/"
        }
      },
      "outputs": [
        {
          "output_type": "stream",
          "name": "stdout",
          "text": [
            "[0, 0, 2, 6, 12, 20, 30, 42, 56, 72]\n"
          ]
        }
      ],
      "source": [
        "# list comprehensions\n",
        "my_list = [i**2 - i for i in range(0, 10)]\n",
        "#this is equivalent to:\n",
        "#my_list = []\n",
        "#for i in range(0, 10):\n",
        "#    my_list.append(i**2 - i)\n",
        "print(my_list)"
      ]
    },
    {
      "cell_type": "code",
      "execution_count": 22,
      "metadata": {
        "id": "6STYCYD7uPEs",
        "outputId": "6d8cacbb-5971-4e23-bd61-b9ff365295a6",
        "colab": {
          "base_uri": "https://localhost:8080/"
        }
      },
      "outputs": [
        {
          "output_type": "stream",
          "name": "stdout",
          "text": [
            "list comprehensions are 43.9 % faster\n"
          ]
        }
      ],
      "source": [
        "# list comprehensions are faster than for loops\n",
        "import time\n",
        "n = 1000000\n",
        "\n",
        "# 1st method to create the list using list comprehensions:\n",
        "t1 = time.time()\n",
        "my_list = [i**2 - i for i in range(0, n)]\n",
        "t2 = time.time()\n",
        "\n",
        "# 2nd method to create the list (the tradiotional way)\n",
        "my_list = []\n",
        "for i in range(0, n):\n",
        "    my_list.append(i**2 - i)\n",
        "t3 = time.time()\n",
        "t_loop = t3 - t2\n",
        "t_com = t2 - t1\n",
        "print(f\"list comprehensions are {100*(t_loop-t_com)/t_loop:.1f} % faster\")"
      ]
    },
    {
      "cell_type": "markdown",
      "metadata": {
        "id": "sd31ZkgGuPEs"
      },
      "source": [
        "## 6. Struktur Data Dictionaries\n",
        "\n",
        "Pada pembahasan sebelumnya, kita sudah mengenal struktur data *list* yang mampu menyimpan berbagai macam hal. List biasanya digunakan untuk menyimpan koleksi data. Namun, list ternyata memiliki kekurangan.\n",
        "\n",
        "**Kekurangannya** ia tidak bisa menggunakan kata kunci untuk mengakses itemnya. Hanya bisa menggunakan nomer indeks saja.\n",
        "\n",
        "Kekurangan ini sudah ditutupi oleh **Dictionary**.\n",
        "\n",
        "*Dictionary* adalah struktur data yang bentuknya seperti kamus. Ada kata kunci kemudian ada nilainya. Kata kunci harus unik, sedangkan nilai boleh diisi dengan apa saja.\n"
      ]
    },
    {
      "cell_type": "code",
      "execution_count": 23,
      "metadata": {
        "id": "paY7XMRUuPEs",
        "outputId": "2e93f088-6c00-448e-8fee-f3830619a604",
        "colab": {
          "base_uri": "https://localhost:8080/"
        }
      },
      "outputs": [
        {
          "output_type": "stream",
          "name": "stdout",
          "text": [
            "type-r\n"
          ]
        }
      ],
      "source": [
        "# dictionaries are unordered and mutable\n",
        "car = {\n",
        "    \"brand\": \"honda\",\n",
        "    \"model\": \"civic\",\n",
        "    \"type\": \"type-r\",\n",
        "    \"engine\": 1997,\n",
        "    \"power\": 320\n",
        "}\n",
        "\n",
        "print(car['type'])\n",
        "\n"
      ]
    },
    {
      "cell_type": "code",
      "execution_count": 24,
      "metadata": {
        "id": "Ec7K9CZxuPEs",
        "outputId": "47e2eb55-94c2-4ac0-c2e0-9a693ac6d934",
        "colab": {
          "base_uri": "https://localhost:8080/"
        }
      },
      "outputs": [
        {
          "output_type": "stream",
          "name": "stdout",
          "text": [
            "brand:honda\n",
            "model:civic\n",
            "type:type-r\n",
            "engine:1997\n",
            "power:320\n",
            "brand honda\n",
            "model civic\n",
            "type type-r\n",
            "engine 1997\n",
            "power 320\n",
            "dict_keys(['brand', 'model', 'type', 'engine', 'power'])\n",
            "dict_values(['honda', 'civic', 'type-r', 1997, 320])\n",
            "dict_items([('brand', 'honda'), ('model', 'civic'), ('type', 'type-r'), ('engine', 1997), ('power', 320)])\n",
            "honda\n",
            "{'brand': 'honda', 'model': 'civic', 'type': 'type-r', 'engine': 1997, 'power': 320, 'year': 2017}\n",
            "engine found!\n",
            "{'brand': 'honda', 'model': 'civic', 'type': 'type-r', 'power': 320, 'year': 2017}\n",
            "engine not found!\n"
          ]
        }
      ],
      "source": [
        "# dictionaries are unordered and mutable\n",
        "car = {\n",
        "    \"brand\": \"honda\",\n",
        "    \"model\": \"civic\",\n",
        "    \"type\": \"type-r\",\n",
        "    \"engine\": 1997,\n",
        "    \"power\": 320\n",
        "}\n",
        "\n",
        "\n",
        "# to iterate the (key,val) pairs of a dict:\n",
        "for key in car:\n",
        "    print(f\"{key}:{car[key]}\")\n",
        "\n",
        "# ... or:\n",
        "for key, value in car.items():\n",
        "    print(key, value)\n",
        "\n",
        "print(car.keys())\n",
        "print(car.values())\n",
        "print(car.items())\n",
        "\n",
        "# print specific value:\n",
        "print(car[\"brand\"])\n",
        "\n",
        "# insert value:\n",
        "car[\"year\"] = 2017\n",
        "print(car)\n",
        "\n",
        "# check if key in dict:\n",
        "if \"engine\" in car:\n",
        "    print(\"engine found!\")\n",
        "\n",
        "\n",
        "# delete a key-value\n",
        "del car[\"engine\"]\n",
        "print(car)\n",
        "if \"engine\" not in car:\n",
        "    print(\"engine not found!\")\n",
        "\n"
      ]
    },
    {
      "cell_type": "code",
      "execution_count": 25,
      "metadata": {
        "id": "Mm3AZHYauPEt",
        "outputId": "a7705ce6-a076-4907-8240-b690de60d6e4",
        "colab": {
          "base_uri": "https://localhost:8080/"
        }
      },
      "outputs": [
        {
          "output_type": "stream",
          "name": "stdout",
          "text": [
            "without copy:\n",
            "{'l1': 20, 'l2': 20}\n",
            "{'l1': 20, 'l2': 20}\n",
            "simple dict-copy:\n",
            "{'l1': 20, 'l2': 20}\n",
            "{'l1': 10, 'l2': 20}\n",
            "simple dict-copy - 2:\n",
            "{'l1': [1000, 20], 'l2': 20}\n",
            "{'l1': [1000, 20], 'l2': 20}\n",
            "with deep copy - 2:\n",
            "{'l1': [1000, 20], 'l2': 20}\n",
            "{'l1': [10, 20], 'l2': 20}\n"
          ]
        }
      ],
      "source": [
        "# deep and shallow copy:\n",
        "# example 1:\n",
        "# without copy:\n",
        "print(\"without copy:\")\n",
        "d1 = {\"l1\": 10, \"l2\": 20}\n",
        "d2 = d1\n",
        "d1[\"l1\"] = 20\n",
        "print(d1)\n",
        "print(d2)\n",
        "\n",
        "# dict contains simple types (not lists, dicts, tuples etc)\n",
        "print(\"simple dict-copy:\")\n",
        "d1 = {\"l1\": 10, \"l2\": 20}\n",
        "d2 = d1.copy()\n",
        "d1[\"l1\"] = 20\n",
        "print(d1)\n",
        "print(d2)\n",
        "\n",
        "print(\"simple dict-copy - 2:\")\n",
        "d1 = {\"l1\": [10, 20], \"l2\": 20}\n",
        "d2 = d1.copy()\n",
        "d1[\"l1\"][0] = 1000\n",
        "print(d1)\n",
        "print(d2)\n",
        "\n",
        "print(\"with deep copy - 2:\")\n",
        "import copy\n",
        "d1 = {\"l1\": [10, 20], \"l2\": 20}\n",
        "d2 = copy.deepcopy(d1)\n",
        "d1[\"l1\"][0] = 1000\n",
        "print(d1)\n",
        "print(d2)"
      ]
    },
    {
      "cell_type": "code",
      "execution_count": 26,
      "metadata": {
        "id": "hIK_h2u8uPEt",
        "outputId": "5d50dd81-b3f5-47bd-a940-f5a5997eb5e0",
        "colab": {
          "base_uri": "https://localhost:8080/"
        }
      },
      "outputs": [
        {
          "output_type": "stream",
          "name": "stdout",
          "text": [
            "{'greece': 10, 'germany': 85, 'france': 65, 'uk': 68, 'italy': 60, 'spain': 46, 'austria': 9, 'ireland': 5, 'cyprus': 1}\n",
            "{'germany': 85, 'france': 65, 'uk': 68, 'italy': 60, 'spain': 46}\n",
            "{'germany': 85, 'france': 65, 'uk': 68, 'italy': 60, 'spain': 46}\n"
          ]
        }
      ],
      "source": [
        "# dictionaries comprehension\n",
        "countries_pop = dict(greece=10, germany=85, france=65, uk=68, italy=60, spain=46, austria=9, ireland=5, cyprus=1)\n",
        "print(countries_pop)\n",
        "\n",
        "large_countries = {}\n",
        "for c, p in countries_pop.items():\n",
        "    if p > 10:\n",
        "        large_countries[c] = p\n",
        "print(large_countries)\n",
        "\n",
        "large_countries = {c:p for c, p in countries_pop.items() if p > 10}\n",
        "print(large_countries)"
      ]
    },
    {
      "cell_type": "markdown",
      "metadata": {
        "id": "yvt6XY8ruPEt"
      },
      "source": [
        "## 7. Reading files\n",
        "\n",
        "Baca dan tulis file adalah teknik dasar yang harus dipahami dalam pemrograman **Python**, karena banyak digunakan untuk pengolahan dan pemerosesan file.\n",
        "\n",
        "Dengan memahami cara membaca dan menulis file dengan Python akan membuat kita mampu membuat aplikasi yang bisa mengambil dan menyimpan data ke file."
      ]
    },
    {
      "cell_type": "code",
      "execution_count": 51,
      "metadata": {
        "id": "LX8YYOuquPEt",
        "outputId": "ec8d74e7-e8a0-42b0-dd02-b29c5790c56b",
        "colab": {
          "base_uri": "https://localhost:8080/"
        }
      },
      "outputs": [
        {
          "output_type": "stream",
          "name": "stdout",
          "text": [
            "\n",
            "0 characters\n",
            "\n",
            "0 characters\n"
          ]
        }
      ],
      "source": [
        "# text files reading\n",
        "import os.path\n",
        "if os.path.exists(\"text_file.txt\"):\n",
        "    with open(\"text_file.txt\", \"r\") as file_reader:\n",
        "        data = file_reader.read()\n",
        "    print(data)\n",
        "    print(f'{len(data)} characters')\n",
        "    print(data)\n",
        "    print(f'{len(data)} characters')\n",
        ""
      ]
    },
    {
      "cell_type": "code",
      "execution_count": 50,
      "metadata": {
        "id": "EeAskFSLuPEu",
        "outputId": "1496945a-1063-477c-f1c3-27e676b90c5b",
        "colab": {
          "base_uri": "https://localhost:8080/"
        }
      },
      "outputs": [
        {
          "output_type": "stream",
          "name": "stdout",
          "text": [
            "[]\n",
            "0 lines\n"
          ]
        }
      ],
      "source": [
        "# read lines\n",
        "with open(\"text_file.txt\", \"r\") as file_reader:\n",
        "    data = file_reader.readlines()\n",
        "print(data)\n",
        "print(f'{len(data)} lines')"
      ]
    },
    {
      "cell_type": "code",
      "source": [
        "# read file from json (as a simple text file) and convert string to dict using json.loads() function\n",
        "with open('songs_metadata.json') as reader_json:\n",
        "    json_string = reader_json.read()\n",
        "import json\n",
        "list_of_dicts = json.loads(json_string)\n",
        "print(len(list_of_dicts))\n",
        "for d in list_of_dicts[::100]:\n",
        "    if 'artist' in d:\n",
        "        print(d['artist'])"
      ],
      "metadata": {
        "id": "F7_hqqMezw3j"
      },
      "execution_count": null,
      "outputs": []
    },
    {
      "cell_type": "markdown",
      "metadata": {
        "id": "hBlYX_RYuPEu"
      },
      "source": [
        "## 8. Functions Pada Pemrograman Python\n",
        "\n",
        "Dalam pembuatan program yang kompleks dan memiliki banyak fitur, kita diharuskan menggunakan fungsi.\n",
        "\n",
        "Jika tidak maka kita akan kerepotan menulis kode programnya, karena banyak yang harus ditulis dan kode akan menjadi sulit dibaca dan dirawat (maintenance).\n",
        "\n",
        "Dengan fungsi, kita dapat memecah program besar menjadi sub program yang lebih sederhana.\n",
        "\n",
        "Masing-masing fitur pada program dapat kita buat dalam satu fungsi. Pada saat kita membutuhkan fitur tersebut, kita tinggal panggil fungsinya saja."
      ]
    },
    {
      "cell_type": "code",
      "execution_count": 31,
      "metadata": {
        "id": "W5FqW1KquPEu",
        "outputId": "757f6edd-8a81-4d0f-b610-e0639c172dd8",
        "colab": {
          "base_uri": "https://localhost:8080/"
        }
      },
      "outputs": [
        {
          "output_type": "stream",
          "name": "stdout",
          "text": [
            "Hello!\n"
          ]
        }
      ],
      "source": [
        "def this_is_a_function_with_no_args():\n",
        "    print(\"Hello!\")\n",
        "\n",
        "this_is_a_function_with_no_args()"
      ]
    },
    {
      "cell_type": "code",
      "execution_count": 32,
      "metadata": {
        "id": "WJP0fTXKuPEw",
        "outputId": "ab2cb5dc-222c-40b5-f6aa-9093e5e55f64",
        "colab": {
          "base_uri": "https://localhost:8080/"
        }
      },
      "outputs": [
        {
          "output_type": "stream",
          "name": "stdout",
          "text": [
            "hello!\n"
          ]
        }
      ],
      "source": [
        "def concatenate_strings_and_print(string1, string2):\n",
        "    print(string1 + string2)\n",
        "\n",
        "concatenate_strings_and_print(\"hello\", \"!\")"
      ]
    },
    {
      "cell_type": "code",
      "execution_count": 33,
      "metadata": {
        "id": "WNIaPobKuPEw",
        "outputId": "ac1cadf1-fbf1-42bb-d267-cc2ada9345d8",
        "colab": {
          "base_uri": "https://localhost:8080/"
        }
      },
      "outputs": [
        {
          "output_type": "stream",
          "name": "stdout",
          "text": [
            "4\n",
            "This is the second argument: IS\n"
          ]
        }
      ],
      "source": [
        "def fun_with_unknown_num_of_arguments(*args):\n",
        "    print(len(args))\n",
        "    print(f\"This is the second argument: {args[1]}\")\n",
        "\n",
        "fun_with_unknown_num_of_arguments(\"THIS\", \"IS\", \"A\", \"TEST\")"
      ]
    },
    {
      "cell_type": "code",
      "execution_count": 34,
      "metadata": {
        "id": "qEcbi6fxuPEw",
        "outputId": "70a0108c-ca79-44e6-ae28-43955564d360",
        "colab": {
          "base_uri": "https://localhost:8080/"
        }
      },
      "outputs": [
        {
          "output_type": "stream",
          "name": "stdout",
          "text": [
            "Maria\n",
            "Helen\n",
            "George\n"
          ]
        }
      ],
      "source": [
        "# default parameter values: (name is optional)\n",
        "def fun(name=\"George\"):\n",
        "    print(name)\n",
        "\n",
        "fun(\"Maria\")\n",
        "fun(\"Helen\")\n",
        "fun() # if the arg is not provided --> default param value is used"
      ]
    },
    {
      "cell_type": "code",
      "execution_count": 35,
      "metadata": {
        "id": "BRi0487buPEx",
        "outputId": "52117573-e9c8-46fc-fe04-2120fb0a8101",
        "colab": {
          "base_uri": "https://localhost:8080/"
        }
      },
      "outputs": [
        {
          "output_type": "stream",
          "name": "stdout",
          "text": [
            "9\n"
          ]
        }
      ],
      "source": [
        "# this is how to return value:\n",
        "def find_max(some_list):\n",
        "    m = some_list[0]\n",
        "    for x in some_list[1:]:\n",
        "        if m < x:\n",
        "            m = x\n",
        "    return m\n",
        "\n",
        "print(find_max([2,4,1,5,6,7,8,9,1]))"
      ]
    },
    {
      "cell_type": "code",
      "execution_count": 36,
      "metadata": {
        "id": "EvCxREN7uPEx",
        "outputId": "aceedf92-78e0-4c07-bf65-30731bd13b4c",
        "colab": {
          "base_uri": "https://localhost:8080/"
        }
      },
      "outputs": [
        {
          "output_type": "stream",
          "name": "stdout",
          "text": [
            "1\n",
            "9\n"
          ]
        }
      ],
      "source": [
        "# and return more than one values:\n",
        "def find_max_min(some_list):\n",
        "    max_val = some_list[0]\n",
        "    min_val = some_list[0]\n",
        "    for x in some_list[1:]:\n",
        "        if max_val < x:\n",
        "            max_val = x\n",
        "        if min_val > x:\n",
        "            min_val = x\n",
        "    return min_val, max_val\n",
        "\n",
        "mymax, mymin = find_max_min([2,4,1,5,6,7,8,9,1])\n",
        "print(mymax)\n",
        "print(mymin)"
      ]
    },
    {
      "cell_type": "markdown",
      "metadata": {
        "id": "6s9zjaMUuPEx"
      },
      "source": [
        "## 9. Lamda functions\n",
        "*Python lambdas* adalah short & anonymous functions. Ekspresi lambda dalam Python dan bahasa pemrograman lainnya berakar pada kalkulus lambda, model komputasi yang digunakan dalam beberapa bahasa pemrograman.\n",
        "\n",
        "Fungsi lambda adalah fungsi anonim (tanpa nama) di Python yang bisa kita definisikan dalam satu baris. Fungsi ini sering digunakan untuk operasi sederhana yang tidak memerlukan fungsi yang panjang atau kompleks, sehingga kita bisa menghemat waktu dan baris kode dalam pengembangannya."
      ]
    },
    {
      "cell_type": "code",
      "execution_count": 37,
      "metadata": {
        "id": "r8I_fueBuPEy",
        "outputId": "b1e81a88-246a-48ff-c128-bbd7ae0772a7",
        "colab": {
          "base_uri": "https://localhost:8080/"
        }
      },
      "outputs": [
        {
          "output_type": "execute_result",
          "data": {
            "text/plain": [
              "20"
            ]
          },
          "metadata": {},
          "execution_count": 37
        }
      ],
      "source": [
        "# this lamda expression\n",
        "double_number = lambda x: 2 * x\n",
        "double_number(10)"
      ]
    },
    {
      "cell_type": "code",
      "execution_count": 38,
      "metadata": {
        "id": "RBfv7LU5uPEy",
        "outputId": "88b563ac-fee2-4884-d5cd-a9e390ed7e1f",
        "colab": {
          "base_uri": "https://localhost:8080/"
        }
      },
      "outputs": [
        {
          "output_type": "execute_result",
          "data": {
            "text/plain": [
              "20"
            ]
          },
          "metadata": {},
          "execution_count": 38
        }
      ],
      "source": [
        "# is equivalent to this function:\n",
        "def double_number(x):\n",
        "    return 2 * x\n",
        "double_number(10)"
      ]
    },
    {
      "cell_type": "code",
      "execution_count": 39,
      "metadata": {
        "id": "C-pOPWwJuPEz",
        "outputId": "8e2217d9-de13-44f3-a746-4e1b4b00c519",
        "colab": {
          "base_uri": "https://localhost:8080/"
        }
      },
      "outputs": [
        {
          "output_type": "stream",
          "name": "stdout",
          "text": [
            "12\n"
          ]
        }
      ],
      "source": [
        "# lamda with two arguments:\n",
        "y = lambda a, b : a * b\n",
        "print(y(3, 4))"
      ]
    },
    {
      "cell_type": "code",
      "execution_count": 40,
      "metadata": {
        "id": "olWJ6Tq0uPEz"
      },
      "outputs": [],
      "source": [
        "# Tugas 2\n"
      ]
    }
  ],
  "metadata": {
    "kernelspec": {
      "display_name": "Python 3",
      "language": "python",
      "name": "python3"
    },
    "language_info": {
      "codemirror_mode": {
        "name": "ipython",
        "version": 3
      },
      "file_extension": ".py",
      "mimetype": "text/x-python",
      "name": "python",
      "nbconvert_exporter": "python",
      "pygments_lexer": "ipython3",
      "version": "3.9.18"
    },
    "colab": {
      "provenance": []
    }
  },
  "nbformat": 4,
  "nbformat_minor": 0
}