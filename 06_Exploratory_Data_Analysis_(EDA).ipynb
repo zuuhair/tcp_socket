{
  "nbformat": 4,
  "nbformat_minor": 0,
  "metadata": {
    "colab": {
      "provenance": [],
      "include_colab_link": true
    },
    "kernelspec": {
      "name": "python3",
      "display_name": "Python 3"
    },
    "language_info": {
      "name": "python"
    }
  },
  "cells": [
    {
      "cell_type": "markdown",
      "metadata": {
        "id": "view-in-github",
        "colab_type": "text"
      },
      "source": [
        "<a href=\"https://colab.research.google.com/github/zuuhair/tcp_socket/blob/main/06_Exploratory_Data_Analysis_(EDA).ipynb\" target=\"_parent\"><img src=\"https://colab.research.google.com/assets/colab-badge.svg\" alt=\"Open In Colab\"/></a>"
      ]
    },
    {
      "cell_type": "markdown",
      "source": [
        "# **Simple Exploratory Data Analysis (EDA) Dengan Statistik Deskriptif**\n",
        "\n",
        "## **Pengertian EDA**\n",
        "exploratory Data Analysis adalah suatu proses uji investigasi awal yang bertujuan untuk mengidentifikasi pola, menemukan anomali, menguji hipotesis dan memeriksa asumsi. Dengan melakukan EDA, pengguna akan sangat terbantu dalam mendeteksi kesalahan dari awal, dapat mengidentifikasi outlier, mengetahui hubungan antar data serta dapat menggali faktor-faktor penting dari data. Proses EDA ini sangat bermanfaat dalam proses analisis statistik.\n",
        "\n",
        "\n",
        "Dengan demikian tidak heran jika para praktisi data profesional sudah sangat sering menggunakan EDA agar hasil analisis menjadi lebih valid dan relevan dengan tujuan bisnis. Secara umum terdapat beberapa teknik exploratory data analysis yaitu dengan menggunakan statistik deskriptif, univariat analysis, dan multivariat analysis.\n",
        "\n",
        "## **Pentingnya EDA**\n",
        "\n",
        "Ketika seseorang melakukan proses analisis data, salah satu proses yang sebaiknya tidak terlewatkan adalah exploratory data analysis (EDA). EDA merupakan salah satu proses penting dalam analisis data dikarenakan dengan melakukan EDA pengguna akan dapat lebih menghemat waktu dalam proses analisis data, dapat mengetahui beberapa kesalahan dalam data seperti adanya missing value, outliers, duplikasi, encodings, data noisy, data tidak lengkap, dll.\n",
        "\n",
        "\n",
        "Salah satu hal yang dikhawatirkan jika tidak melalui proses EDA adalah terjadinya error yang berulang-ulang dalam proses analisis, atau hasil analisis menjadi kurang valid dan kurang relevan dengan tujuan bisnis dikarenakan data yang digunakan masih benar-benar belum siap. Selain itu dengan melakukan EDA, pengguna akan terbantu dalam melihat data sebelum membuat asumsi apapun sehingga dapat mengidentifikasi kesalahan-kesalahan dalam data.\n",
        "\n",
        "## **Teknik Exploratory Data Analysis**\n",
        "\n",
        "Pada proses pengolahan data, dalam melakukan exploratory data analysis dapat menggunakan beberapa teknik yang tersedia, yaitu:\n",
        "\n",
        "**Statistik deskriptif**\n",
        "\n",
        "    mendeskripsikan atau merangkum data sehingga menghasilkan informasi secara umum tanpa bertujuan untuk menarik kesimpulan. Statistik deskriptif dapat menampilkan beberapa informasi penting seperti nilai rata-rata, median, modus, standar deviasi, variansi dan kecekungan. Statistik deskriptif ini dapat ditampilkan dalam berbagai bentuk seperti tabel, diagram, grafik, dll.\n",
        "\n",
        "**Univariate analysis**\n",
        "\n",
        "    Menganalisis kolom secara terpisah dan melihat distribusi datanya. Univariate analysis secara umum terbagi dua, yaitu numerik dan kategorik. Analisis ini digunakan juga dengan tujuan untuk mengambil kesimpulan dengan menggunakan beberapa analisis inferensial yang mungkin digunakan.\n",
        "\n",
        "**Multivariate analysis**\n",
        "\n",
        "    Menggabungkan beberapa kolom dengan tujuan menemukan hubungan antara satu kolom dengan kolom lainnya.\n",
        "\n",
        "\n"
      ],
      "metadata": {
        "id": "lZW8Wr3Y638-"
      }
    },
    {
      "cell_type": "markdown",
      "source": [
        "## Contoh Kasus\n",
        "EDA untuk Data penjualan cabang supermarket XYZ dengan metode statistik Deskriptif. Berikut ini detailnya:\n",
        "\n",
        "1. Bagimana mentukan *Median price* yang dibayar customer dari masing-masing metode pembayaran.\n",
        "2. Mecari data metode pembayaran yang memiliki basket size (rataan median price) terbesar. Untuk mencari metode pembayaran apa yang sering digunakan pelanggan.\n",
        "3. Mencari data termahal dari *freight_value*, dengan Ubah freight_value menjadi shipping_cost dan cari shipping_cost termahal dari data penjualan tersebut menggunakan sort. Untuk mencari data shipping_cost termahal.\n",
        "4. Mencari *standar deviasi* untuk setiap product_category_name, berapa rata-rata weight produk tersebut dan standar deviasi mana yang terkecil dari weight tersebut, untuk mengukur penyebaran kelompok data produk.\n",
        "5. Membuat histogram quantity penjualan dari dataset tersebut untuk melihat persebaran quantity penjualan tersebut dengan bins = 5 dan figsize= (4,5). Untuk membandingkan secara visual antara data penjualan\n",
        "\n",
        "Dari studi kasus diatas dapat diterjemahkah dengan kode sebagai berikut:\n",
        "\n",
        "**Kode Program 6.1**\n",
        "\n",
        "\n",
        "```python\n",
        "import pandas as pd\n",
        "import matplotlib.pyplot as plt\n",
        "order_df = pd.read_csv(\"https://github.com/rahmadsa/dataset/blob/main/order.csv?raw=true\")\n",
        "\n",
        "# Median price yang dibayar customer dari masing-masing metode pembayaran.\n",
        "\n",
        "median_price = order_df[\"price\"].groupby(order_df[\"payment_type\"]).median()\n",
        "print(median_price)\n",
        "\n",
        "# Ubah freight_value menjadi shipping_cost dan cari shipping_cost\n",
        "# termahal dari data penjualan tersebut menggunakan sort.\n",
        "order_df.rename(columns={\"freight_value\": \"shipping_cost\"}, inplace=True)\n",
        "sort_value = order_df.sort_values(by=\"shipping_cost\", ascending=0)\n",
        "print(sort_value)\n",
        "\n",
        "# Untuk product_category_name, berapa  rata-rata weight produk tersebut\n",
        "# dan standar deviasi mana yang terkecil dari weight tersebut,\n",
        "mean_value = order_df[\"product_weight_gram\"].groupby(order_df[\"product_category_name\"]).mean()\n",
        "print(mean_value.sort_values())\n",
        "std_value = order_df[\"product_weight_gram\"].groupby(order_df[\"product_category_name\"]).std()\n",
        "print(std_value.sort_values())\n",
        "\n",
        "# Buat histogram quantity penjualan dari dataset tersebutuntuk melihat persebaran quantity\n",
        "# penjualan tersebut dengan bins = 5 dan figsize= (4,5)\n",
        "order_df[[\"quantity\"]].hist(figsize=(4, 5), bins=5)\n",
        "plt.show()\n",
        "```\n",
        "\n",
        "**Tugas Project 1a:**\n",
        "\n",
        "Amati dan pahami proses EDA dengan menjalankan script **Kode Program 6.1** pada cell editor dibawah ini.\n"
      ],
      "metadata": {
        "id": "ZVcC9Yix9qE3"
      }
    },
    {
      "cell_type": "code",
      "source": [
        "#Tugas Project 1a:\n",
        "import pandas as pd\n",
        "import matplotlib.pyplot as plt\n",
        "order_df = pd.read_csv(\"https://github.com/rahmadsa/dataset/blob/main/order.csv?raw=true\")\n",
        "\n",
        "# Median price yang dibayar customer dari masing-masing metode pembayaran.\n",
        "\n",
        "median_price = order_df[\"price\"].groupby(order_df[\"payment_type\"]).median()\n",
        "print(median_price)\n",
        "\n",
        "# Ubah freight_value menjadi shipping_cost dan cari shipping_cost\n",
        "# termahal dari data penjualan tersebut menggunakan sort.\n",
        "order_df.rename(columns={\"freight_value\": \"shipping_cost\"}, inplace=True)\n",
        "sort_value = order_df.sort_values(by=\"shipping_cost\", ascending=0)\n",
        "print(sort_value)\n",
        "\n",
        "# Untuk product_category_name, berapa  rata-rata weight produk tersebut\n",
        "# dan standar deviasi mana yang terkecil dari weight tersebut,\n",
        "mean_value = order_df[\"product_weight_gram\"].groupby(order_df[\"product_category_name\"]).mean()\n",
        "print(mean_value.sort_values())\n",
        "std_value = order_df[\"product_weight_gram\"].groupby(order_df[\"product_category_name\"]).std()\n",
        "print(std_value.sort_values())\n",
        "\n",
        "# Buat histogram quantity penjualan dari dataset tersebutuntuk melihat persebaran quantity\n",
        "# penjualan tersebut dengan bins = 5 dan figsize= (4,5)\n",
        "order_df[[\"quantity\"]].hist(figsize=(4, 5), bins=5)\n",
        "plt.show()"
      ],
      "metadata": {
        "id": "XzpTdU8kBTWX",
        "outputId": "3c0278c2-c132-4bc1-d558-8602aa27f722",
        "colab": {
          "base_uri": "https://localhost:8080/",
          "height": 1000
        }
      },
      "execution_count": 1,
      "outputs": [
        {
          "output_type": "stream",
          "name": "stdout",
          "text": [
            "payment_type\n",
            "credit card        2587500.0\n",
            "debit card         2621500.0\n",
            "e-wallet           2589000.0\n",
            "virtual account    2643000.0\n",
            "Name: price, dtype: float64\n",
            "                               order_id  quantity  \\\n",
            "23829  7d63cb1d349e7bd0ee1edcc61ea71077         1   \n",
            "12011  00c9f7d4b0e87781465e562dc109f6aa         1   \n",
            "10984  69013d19f8db4cd7dc9f3b5c2564a96f         1   \n",
            "29722  f32c4d2b078bc5a354f4c1184522b5ff         1   \n",
            "15259  c8eab0ccabe8cdfc2afce66c1c554ae2         1   \n",
            "...                                 ...       ...   \n",
            "2891   1d0e8770169496e47622b6cbc0d10bda         1   \n",
            "36815  4bff82a994068f564e54b52b08ef4512         2   \n",
            "8175   e6b1fa22555c3064f984ebeb8a88de77         1   \n",
            "4034   8ac2728285fd4228f35d907768b5288a         4   \n",
            "32994  0286e258217733541e80588e29c208c1         1   \n",
            "\n",
            "                             product_id    price  \\\n",
            "23829  75d6b6963340c6063f7f4cfcccfe6a30  1472000   \n",
            "12011  1a0d662b65b5ef08796501b064c853af  4543000   \n",
            "10984  10d196ec072e2d8382c7ec9c942d7ea8  4137000   \n",
            "29722  0f789be671fe3bd93cabfbb4a710f282  4802000   \n",
            "15259  800f75019492a0d9ffb2483ae65b59f1  4078000   \n",
            "...                                 ...      ...   \n",
            "2891   3fc0f58c51fcd02161542e0320c4dbe7  4135000   \n",
            "36815  24d8da2d499efba175b1092826b7e390  2879000   \n",
            "8175   6fd82d8f842424334fedf31190e54d24  2947000   \n",
            "4034   fa94f25a73969e3a25d52706e246dfcc   967000   \n",
            "32994  3c4223262d31fa35043380da246fb0fa  3337000   \n",
            "\n",
            "                              seller_id  shipping_cost  \\\n",
            "23829  cc419e0650a3c5ba77189a1882b7556a         200000   \n",
            "12011  2e0dba2da448400b1c11d7b4b22f32a4         200000   \n",
            "10984  d12c926d74ceff0a90a21184466ce161         200000   \n",
            "29722  259f7b5e6e482c230e5bfaa670b6bb8f         200000   \n",
            "15259  efcd8d2104f1a05d028af7bad20d974b         200000   \n",
            "...                                 ...            ...   \n",
            "2891   82e0a475a88cc9595229d8029273f045           9000   \n",
            "36815  d12c926d74ceff0a90a21184466ce161           9000   \n",
            "8175   6560211a19b47992c3666cc44a7e94c0           9000   \n",
            "4034   004c9cd9d87a3c30c522c48c4fc07416           9000   \n",
            "32994  cb3dd9ce66268c7a3ca7241ac70ab58c           9000   \n",
            "\n",
            "                            customer_id order_status purchase_date  \\\n",
            "23829  484711e3d14ac75fb874e949b3a28395    delivered    2017-08-14   \n",
            "12011  cea80f9af87104810bd7fa9698f69d29    delivered    2017-05-22   \n",
            "10984  9cf423929ed7f738fd0a0e88607a79fd    delivered    2017-05-15   \n",
            "29722  5a1523d32a6d1b323a05895f5164655d    delivered    2017-09-18   \n",
            "15259  2339ab3abbeebe72f2782a01c87a9bc0    delivered    2017-06-14   \n",
            "...                                 ...          ...           ...   \n",
            "2891   e3cfff24939005d30dd3a046848227d6    delivered    2017-02-22   \n",
            "36815  2e998a151ac7a977d4a7e806346e0092    delivered    2017-10-30   \n",
            "8175   02d6ca625564571402a933db8fe814f0    delivered    2017-04-21   \n",
            "4034   6b5e281c1563241783deb3a2636daa28    delivered    2017-03-08   \n",
            "32994  010583f85dd55d32a6db1068f58ca6f1    delivered    2017-10-09   \n",
            "\n",
            "          payment_type product_category_name  product_weight_gram  \n",
            "23829      credit card                gadget                400.0  \n",
            "12011         e-wallet                  toys                900.0  \n",
            "10984      credit card             utilities                250.0  \n",
            "29722      credit card                  toys                450.0  \n",
            "15259       debit card                sports                100.0  \n",
            "...                ...                   ...                  ...  \n",
            "2891        debit card               fashion                900.0  \n",
            "36815         e-wallet               fashion                150.0  \n",
            "8175   virtual account           electronics                250.0  \n",
            "4034   virtual account               fashion               1700.0  \n",
            "32994  virtual account             utilities                700.0  \n",
            "\n",
            "[49999 rows x 12 columns]\n",
            "product_category_name\n",
            "beauty         2120.088396\n",
            "automotive     2129.559039\n",
            "electronics    2144.751191\n",
            "toys           2203.863643\n",
            "gadget         2229.632942\n",
            "fashion        2246.516901\n",
            "sports         2251.879909\n",
            "utilities      2291.029868\n",
            "Name: product_weight_gram, dtype: float64\n",
            "product_category_name\n",
            "automotive     3799.884166\n",
            "beauty         3837.474929\n",
            "electronics    3839.271768\n",
            "fashion        3858.885213\n",
            "gadget         3955.792741\n",
            "toys           3956.814749\n",
            "sports         4032.850044\n",
            "utilities      4150.509909\n",
            "Name: product_weight_gram, dtype: float64\n"
          ]
        },
        {
          "output_type": "display_data",
          "data": {
            "text/plain": [
              "<Figure size 400x500 with 1 Axes>"
            ],
            "image/png": "[encoded data removed]"
          },
          "metadata": {}
        }
      ]
    },
    {
      "cell_type": "markdown",
      "source": [
        "**Tugas Project 1b:**\n",
        "\n",
        "Berikan kesimpulan dari hasil analisis data pada *Kode Program 6.1*  \n",
        "**Kesimpulan :**\n",
        "*............*  "
      ],
      "metadata": {
        "id": "S6cWvvGOFDYB"
      }
    },
    {
      "cell_type": "markdown",
      "source": [
        "- berdasarkan metode (payment_type) dapat diketahui mana yang memiliki transaksi dengan rata-rata tertinggi dan terrendah\n",
        "metode ini dapat mendapatkan pembayan mana yang paling menguntunggkan untuk bisnis\n",
        "- metode snifing_const di gunakan untuk mempeloreh informasi transaksi pengiriman tertinggi. metode ini berguna untuk memahami faktor yang mempengaruhi tingginya biaya pengiriman seperti jarak berat dan produk\n",
        "- metode product_catagory memudahkan untuk dikelola dalam sistem logistik\n",
        "-metode histogram bertujuan untuk menunjukan jumlah barang yang terjual dalam datasetr. histogram penjualan dapat memberikan pengetahuan tentang belanja pelanggan dan membantu dalam strategi penjualan dan stok barang\n"
      ],
      "metadata": {
        "id": "kmZxr1T1vBZD"
      }
    },
    {
      "cell_type": "markdown",
      "source": [
        "berdasarkan metode payment_type dapat diketahui mana yang memiliki transaksi dengan rata-rata tertinggi dan terrendah\n",
        "metode"
      ],
      "metadata": {
        "id": "88CFFRyJu2WX"
      }
    }
  ]
}